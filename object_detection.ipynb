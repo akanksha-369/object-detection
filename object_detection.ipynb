{
 "cells": [
  {
   "cell_type": "code",
   "execution_count": 5,
   "id": "3175f4d7",
   "metadata": {},
   "outputs": [],
   "source": [
    "import cv2 as cv\n",
    "import time\n",
    "Conf_threshold = 0.4\n",
    "NMS_threshold = 0.4\n",
    "COLORS = [(0, 255, 0), (0, 0, 255), (255, 0, 0),\n",
    "          (255, 255, 0), (255, 0, 255), (0, 255, 255)]\n",
    "\n",
    "class_name = []\n",
    "with open('classes.txt', 'r') as f:\n",
    "    class_name = [cname.strip() for cname in f.readlines()]\n",
    "# print(class_name)\n",
    "net = cv.dnn.readNet('yolov4-tiny.weights', 'yolov4-tiny.cfg')\n",
    "net.setPreferableBackend(cv.dnn.DNN_BACKEND_CUDA)\n",
    "net.setPreferableTarget(cv.dnn.DNN_TARGET_CUDA_FP16)\n",
    "\n",
    "model = cv.dnn_DetectionModel(net)\n",
    "model.setInputParams(size=(416, 416), scale=1/255, swapRB=True)\n",
    "\n",
    "\n",
    "cap = cv.VideoCapture(0)\n",
    "starting_time = time.time()\n",
    "frame_counter = 0\n",
    "while True:\n",
    "    ret, frame = cap.read()\n",
    "    frame_counter += 1\n",
    "    if ret == False:\n",
    "        break\n",
    "    classes, scores, boxes = model.detect(frame, Conf_threshold, NMS_threshold)\n",
    "    for (classid, score, box) in zip(classes, scores, boxes):\n",
    "        color = COLORS[int(classid) % len(COLORS)]\n",
    "        label = \"%s : %f\" % (class_name[int(classid)], score)\n",
    "        cv.rectangle(frame, box, color, 1)\n",
    "        cv.putText(frame, label, (box[0], box[1]-10),\n",
    "                   cv.FONT_HERSHEY_COMPLEX, 0.3, color, 1)\n",
    "    endingTime = time.time() - starting_time\n",
    "    fps = frame_counter/endingTime\n",
    "    # print(fps)\n",
    "    cv.putText(frame, f'FPS: {fps}', (20, 50),\n",
    "               cv.FONT_HERSHEY_COMPLEX, 0.7, (0, 255, 0), 2)\n",
    "    cv.imshow('frame', frame)\n",
    "    key = cv.waitKey(1)\n",
    "    if key == ord('q'):\n",
    "        break\n",
    "cap.release()\n",
    "cv.destroyAllWindows()\n"
   ]
  },
  {
   "cell_type": "code",
   "execution_count": 2,
   "id": "3f08b422",
   "metadata": {},
   "outputs": [
    {
     "name": "stdout",
     "output_type": "stream",
     "text": [
      "Collecting opencv-contrib-python==4.5.3.56\n",
      "  Downloading opencv_contrib_python-4.5.3.56-cp39-cp39-win_amd64.whl (41.8 MB)\n",
      "     -------------------------------------- 41.8/41.8 MB 939.3 kB/s eta 0:00:00\n",
      "Requirement already satisfied: numpy>=1.19.3 in c:\\users\\payal\\appdata\\roaming\\python\\python39\\site-packages (from opencv-contrib-python==4.5.3.56) (1.23.5)\n",
      "Installing collected packages: opencv-contrib-python\n",
      "  Attempting uninstall: opencv-contrib-python\n",
      "    Found existing installation: opencv-contrib-python 4.7.0.72\n",
      "    Uninstalling opencv-contrib-python-4.7.0.72:\n",
      "      Successfully uninstalled opencv-contrib-python-4.7.0.72\n",
      "Successfully installed opencv-contrib-python-4.5.3.56\n",
      "Note: you may need to restart the kernel to use updated packages.\n"
     ]
    },
    {
     "name": "stderr",
     "output_type": "stream",
     "text": [
      "\n",
      "[notice] A new release of pip is available: 23.1.2 -> 23.2.1\n",
      "[notice] To update, run: python.exe -m pip install --upgrade pip\n"
     ]
    }
   ],
   "source": [
    "pip install opencv-contrib-python==4.5.3.56"
   ]
  },
  {
   "cell_type": "code",
   "execution_count": null,
   "id": "8a0901fe",
   "metadata": {},
   "outputs": [],
   "source": []
  }
 ],
 "metadata": {
  "kernelspec": {
   "display_name": "Python 3 (ipykernel)",
   "language": "python",
   "name": "python3"
  },
  "language_info": {
   "codemirror_mode": {
    "name": "ipython",
    "version": 3
   },
   "file_extension": ".py",
   "mimetype": "text/x-python",
   "name": "python",
   "nbconvert_exporter": "python",
   "pygments_lexer": "ipython3",
   "version": "3.9.13"
  }
 },
 "nbformat": 4,
 "nbformat_minor": 5
}
